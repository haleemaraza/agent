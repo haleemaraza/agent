{
  "nbformat": 4,
  "nbformat_minor": 0,
  "metadata": {
    "colab": {
      "provenance": [],
      "authorship_tag": "ABX9TyMv/J03wGNpmMYdHqIHOc6c",
      "include_colab_link": true
    },
    "kernelspec": {
      "name": "python3",
      "display_name": "Python 3"
    },
    "language_info": {
      "name": "python"
    }
  },
  "cells": [
    {
      "cell_type": "markdown",
      "metadata": {
        "id": "view-in-github",
        "colab_type": "text"
      },
      "source": [
        "<a href=\"https://colab.research.google.com/github/haleemaraza/agent/blob/main/agent.ipynb\" target=\"_parent\"><img src=\"https://colab.research.google.com/assets/colab-badge.svg\" alt=\"Open In Colab\"/></a>"
      ]
    },
    {
      "cell_type": "code",
      "execution_count": null,
      "metadata": {
        "id": "IYPdZ2Nnm0UN"
      },
      "outputs": [],
      "source": [
        "import asyncio\n",
        "\n",
        "from agents import Agent, Runner, function_tool, set_tracing_disabled\n",
        "from agents.extensions.models.litellm_model import LitellmModel\n",
        "from google.colab import userdata\n",
        "\n",
        "set_tracing_disabled(disabled=True)\n",
        "\n",
        "MODEL='gemini/gemini-2.0-flash'\n",
        "GOOGLE_API_KEY = userdata.get(\"GOOGLE_API_KEY\")\n",
        "\n",
        "@function_tool\n",
        "def get_tour_guide(city: str)->str:\n",
        "  print(f\"\\n\\n[DEBUG] Tour guide for {city}\\n\\n\")\n",
        "  return f\"\\n\\n[DEBUG] Tour guide for {city}\\n\\n\"\n",
        "\n",
        "tour_guide_agent = Agent(\n",
        "    name=\"Tour guide Assistant\",\n",
        "    instructions=\"you will answer tour guide relevant questions\",\n",
        "    model=LitellmModel(model=MODEL, api_key=GOOGLE_API_KEY),\n",
        "    tools=[get_tour_guide],\n",
        "    handoff_description=\"Tour guide assistant is specialized for all guide Queries\"\n",
        ")\n",
        "\n",
        "food_guide_agent = Agent(\n",
        "    name=\"Food guide Assistant\",\n",
        "    instructions=\"you will answer food relevant questions\",\n",
        "    model=LitellmModel(model=MODEL, api_key=GOOGLE_API_KEY),\n",
        "    handoff_description= \"Palate guide assistant is specialize for all food queries\"\n",
        "    # handoffs=[tour_guide_agent]\n",
        ")\n",
        "\n",
        "triage_agent= Agent(\n",
        "    name=\"General assistant\",\n",
        "    instructions=\"you will chat with user for general questions and handoff to specilize agents you will always handoff tour_guide_agent and its tool too and food_guide_agent \",\n",
        "    model=LitellmModel(model=MODEL, api_key=GOOGLE_API_KEY),\n",
        "    handoffs=[food_guide_agent,tour_guide_agent]\n",
        ")\n",
        "\n",
        "result = Runner.run_sync(triage_agent, \"i am going to the Paris what should i visit  first and eat\")\n",
        "print(result.final_output)\n",
        "print (\"-\" * 10)\n",
        "print(result.last_agent.name)"
      ]
    }
  ]
}